{
 "cells": [
  {
   "cell_type": "code",
   "execution_count": 28,
   "metadata": {
    "collapsed": true
   },
   "outputs": [],
   "source": [
    "import DataReader\n",
    "import collections\n",
    "import matplotlib.pyplot as plt\n",
    "import numpy as np\n",
    "import datetime\n",
    "import sys\n",
    "import pandas as pd"
   ]
  },
  {
   "cell_type": "code",
   "execution_count": 91,
   "metadata": {},
   "outputs": [],
   "source": [
    "datareader = DataReader.CSVReader('data/app_331.csv', 'data/opp_331.csv')\n",
    "basic_df = datareader.getBasicDataFrame()"
   ]
  },
  {
   "cell_type": "code",
   "execution_count": 92,
   "metadata": {},
   "outputs": [
    {
     "name": "stdout",
     "output_type": "stream",
     "text": [
      "Applied:  52187\n",
      "Interview:  2579\n",
      "Offered:  1510\n",
      "unique_opp_count:  1773\n"
     ]
    },
    {
     "data": {
      "image/png": "[encoded data removed]",
      "text/plain": [
       "<matplotlib.figure.Figure at 0x7fb6e544acc0>"
      ]
     },
     "metadata": {},
     "output_type": "display_data"
    }
   ],
   "source": [
    "def displayAppStatePiechart(df):\n",
    "# #     print(len(df['opp_id'].unique()))\n",
    "#     groupby_opp = df.groupby('opp_id')['candidate_id'].agg('count')\n",
    "# #     print(len(groupby_opp))\n",
    "# #     print(len(groupby_opp[groupby_opp>500]))\n",
    "# #     print(len(groupby_opp[groupby_opp<=500]))\n",
    "    \n",
    "#     size_0 = len(groupby_opp[groupby_opp==0])\n",
    "#     print('Number of Opporunity without any application: %d' % size_0)\n",
    "#     size_01_05 = len(groupby_opp[groupby_opp<=5])\n",
    "#     size_06_25 = len(groupby_opp[groupby_opp<=25]) - size_01_05\n",
    "#     size_26_50 = len(groupby_opp[groupby_opp<=50]) - len(groupby_opp[groupby_opp<=25])\n",
    "#     size_51_100 = len(groupby_opp[groupby_opp<=100]) - len(groupby_opp[groupby_opp<=50])\n",
    "#     size_100 = len(groupby_opp[groupby_opp>100])\n",
    "    \n",
    "    count_dict = collections.Counter(df['app_state'])\n",
    "    applied = count_dict[1]\n",
    "    interview = count_dict[2]\n",
    "    offered = count_dict[3]\n",
    "    \n",
    "    unique_opp_count = len(basic_df['opp_id'].unique())\n",
    "    print('Applied: ', applied)\n",
    "    print('Interview: ', interview)\n",
    "    print('Offered: ', offered)\n",
    "    print('unique_opp_count: ', unique_opp_count)\n",
    "    \n",
    "    # Data to plot\n",
    "    labels = 'Applied', 'Interviewed', 'Job Offered'\n",
    "    sizes = [applied, interview, offered]\n",
    "    colors = ['gold', 'yellowgreen', 'lightcoral']\n",
    "    explode = (0, 1, 1)  # explode 1st slice\n",
    "\n",
    "    # Plot\n",
    "    plt.pie(sizes, explode=explode, labels=labels, colors=colors,\n",
    "            autopct='%1.1f%%', shadow=True, startangle=140)\n",
    "    plt.title('Proportion of Applied, Interviewed and Offered')\n",
    "    plt.axis('equal')\n",
    "    plt.show()\n",
    "\n",
    "displayAppStatePiechart(basic_df)"
   ]
  },
  {
   "cell_type": "code",
   "execution_count": 69,
   "metadata": {},
   "outputs": [
    {
     "name": "stdout",
     "output_type": "stream",
     "text": [
      "33837\n",
      "37232\n",
      "0.9088149978513107\n"
     ]
    },
    {
     "data": {
      "image/png": "[encoded data removed]",
      "text/plain": [
       "<matplotlib.figure.Figure at 0x7fb6d9cf1f98>"
      ]
     },
     "metadata": {},
     "output_type": "display_data"
    }
   ],
   "source": [
    "def displayCandidateAppHistogram_old_notused(df):\n",
    "    appcount_dict = collections.defaultdict(int)\n",
    "    for index, row in df.iterrows():\n",
    "        appcount_dict[row['candidate_id']] += 1\n",
    "\n",
    "    histo_dict = collections.defaultdict(int)\n",
    "    for k, v in appcount_dict.items():\n",
    "        histo_dict[v] += 1\n",
    "\n",
    "    print(histo_dict)\n",
    "    '''\n",
    "    defaultdict(<class 'int'>, {1: 216391, 2: 11049, 3: 1920, 4: 582, 5: 245, 6: 107, 7: 91, 8: 61, 9: 29, 10: 23, \n",
    "    11: 12, 12: 13, 13: 10, 14: 7, 15: 3, 16: 1, 17: 1, 18: 4, 19: 2, 20: 1, 21: 2, 22: 1, 23: 1, 24: 1, 25: 1, 41: 1, \n",
    "    57: 1})\n",
    "    '''\n",
    "\n",
    "    # sudo apt-get install python3-tk\n",
    "    plt.hist(list(histo_dict.values()), normed=True, bins=30)\n",
    "    plt.ylabel('Probability')\n",
    "    plt.show()\n",
    "\n",
    "    \n",
    "def displayCandidateAppHistogram2(df):\n",
    "    applications = df.groupby('candidate_id')['opp_id'].agg('count')\n",
    "    \n",
    "    hist, bins = np.histogram(applications, bins=50)\n",
    "    width = 0.7 * (bins[1] - bins[0])\n",
    "    center = (bins[:-1] + bins[1:]) / 2\n",
    "    plt.yscale('log')\n",
    "    plt.bar(center, hist, align='center', width=width)\n",
    "    plt.show()\n",
    "    \n",
    "\n",
    "def displayCandidateAppPiechart(df):\n",
    "#     print(len(df['candidate_id'].unique()))\n",
    "    groupby_candidate = df.groupby('candidate_id')['opp_id'].agg('count')\n",
    "#     print(len(groupby_opp))\n",
    "#     print(len(groupby_opp[groupby_opp>500]))\n",
    "#     print(len(groupby_opp[groupby_opp<=500]))\n",
    "    \n",
    "    size_01 = len(groupby_candidate[groupby_candidate==1])\n",
    "    size_02 = len(groupby_candidate[groupby_candidate==2])\n",
    "    size_03 = len(groupby_candidate[groupby_candidate==3])\n",
    "    size_04 = len(groupby_candidate[groupby_candidate==4])\n",
    "    size_05 = len(groupby_candidate[groupby_candidate==5])\n",
    "    \n",
    "    size_06_10 = len(groupby_candidate[groupby_candidate<=10]) - len(groupby_candidate[groupby_candidate<=5])\n",
    "    size_11_20 = len(groupby_candidate[groupby_candidate<=20]) - len(groupby_candidate[groupby_candidate<=10])\n",
    "    size_21 = len(groupby_candidate[groupby_candidate>20])\n",
    "    \n",
    "    print(size_01)\n",
    "    print(size_01 + size_02 + size_03 + size_04 + size_05 + size_06_10 + size_11_20 + size_21)\n",
    "    \n",
    "    print((size_01)/(size_01 + size_02 + size_03 + size_04 + size_05 + size_06_10 + size_11_20 + size_21))\n",
    "    \n",
    "    objects = ('1', '2', '3', '4', '5', '6-10', '11-20', '>20')\n",
    "    y_pos = np.arange(len(objects))\n",
    "    performance = [size_01, size_02, size_03, size_04, size_05, size_06_10, size_11_20, size_21]\n",
    "\n",
    "    plt.bar(y_pos, performance, align='center', alpha=0.5)\n",
    "    plt.xticks(y_pos, objects)\n",
    "    plt.ylabel('Number of candidates')\n",
    "    plt.xlabel('Number of application made')\n",
    "    plt.title('Number of Applications per Candidate')\n",
    "    plt.yscale('log')\n",
    "    plt.show()\n",
    "    \n",
    "    \n",
    "# displayCandidateAppHistogram2(basic_df)\n",
    "displayCandidateAppPiechart(basic_df)"
   ]
  },
  {
   "cell_type": "code",
   "execution_count": 31,
   "metadata": {},
   "outputs": [
    {
     "data": {
      "image/png": "[encoded data removed]",
      "text/plain": [
       "<matplotlib.figure.Figure at 0x7fb6e549db38>"
      ]
     },
     "metadata": {},
     "output_type": "display_data"
    }
   ],
   "source": [
    "def displayCandidateTemporalStats(df):\n",
    "    '''\n",
    "    Compute the number of days between applications for a candidate\n",
    "    :param df:\n",
    "    :return:\n",
    "    '''\n",
    "    groupby_candidate = df.groupby('candidate_id')['create_date']\n",
    "\n",
    "    timeDiff = []\n",
    "    for k, v in groupby_candidate:\n",
    "        if len(v) > 1:\n",
    "            v = sorted(v)\n",
    "            # print(v)\n",
    "            for i in range(len(v)-1):\n",
    "                try:\n",
    "                    cur = datetime.datetime.strptime(v[i], \"%Y-%m-%d %H:%M:%S\")\n",
    "                    nex = datetime.datetime.strptime(v[i+1], \"%Y-%m-%d %H:%M:%S\")\n",
    "                    diff = nex - cur\n",
    "                    # print(type(diff))\n",
    "                    # print(diff.days)\n",
    "                    timeDiff.append(diff.days)\n",
    "\n",
    "                except:\n",
    "                    print(\"Unexpected error:\", sys.exc_info()[0])\n",
    "\n",
    "#     print(len(timeDiff))\n",
    "#     print(timeDiff[:20])\n",
    "\n",
    "    hist, bins = np.histogram(timeDiff, bins=500)\n",
    "    \n",
    "#     width = 0.7 * (bins[1] - bins[0])\n",
    "#     center = (bins[:-1] + bins[1:]) / 2\n",
    "#     plt.bar(center, hist, align='center', width=width)\n",
    "    width = bins[1] - bins[0]\n",
    "    plt.bar(bins[:-1], hist, width=width)\n",
    "    plt.title('Days between Applications')\n",
    "    plt.xlabel('Days')\n",
    "    plt.ylabel('Number of applications')\n",
    "    plt.yscale('log')\n",
    "    plt.show()\n",
    "\n",
    "displayCandidateTemporalStats(basic_df)"
   ]
  },
  {
   "cell_type": "code",
   "execution_count": 32,
   "metadata": {},
   "outputs": [
    {
     "name": "stdout",
     "output_type": "stream",
     "text": [
      "Number of Opporunity without any application: 0\n"
     ]
    },
    {
     "data": {
      "image/png": "[encoded data removed]",
      "text/plain": [
       "<matplotlib.figure.Figure at 0x7fb6e5bfed30>"
      ]
     },
     "metadata": {},
     "output_type": "display_data"
    }
   ],
   "source": [
    "def displayOpportunityPopularityHistogram(df):\n",
    "    groupby_opp = df.groupby('opp_id')['candidate_id'].agg('count')\n",
    "    \n",
    "#     print(groupby_opp)\n",
    "    hist, bins = np.histogram(groupby_opp, bins=500)\n",
    "    \n",
    "#     width = 0.7 * (bins[1] - bins[0])\n",
    "#     center = (bins[:-1] + bins[1:]) / 2\n",
    "#     plt.bar(center, hist, align='center', width=width)\n",
    "    \n",
    "    width = 1.0 * (bins[1] - bins[0])\n",
    "    center = (bins[:-1] + bins[1:]) / 2\n",
    "    plt.bar(center, hist, align='center', width=width)\n",
    "    \n",
    "    plt.yscale('log')\n",
    "    plt.show()\n",
    "    # 500 opp has 10 candidates applying\n",
    "    \n",
    "def displayOpportunityPopularityPiechart(df):\n",
    "#     print(len(df['opp_id'].unique()))\n",
    "    groupby_opp = df.groupby('opp_id')['candidate_id'].agg('count')\n",
    "#     print(len(groupby_opp))\n",
    "#     print(len(groupby_opp[groupby_opp>500]))\n",
    "#     print(len(groupby_opp[groupby_opp<=500]))\n",
    "    \n",
    "    size_0 = len(groupby_opp[groupby_opp==0])\n",
    "    print('Number of Opporunity without any application: %d' % size_0)\n",
    "    size_01_05 = len(groupby_opp[groupby_opp<=5])\n",
    "    size_06_25 = len(groupby_opp[groupby_opp<=25]) - size_01_05\n",
    "    size_26_50 = len(groupby_opp[groupby_opp<=50]) - len(groupby_opp[groupby_opp<=25])\n",
    "    size_51_100 = len(groupby_opp[groupby_opp<=100]) - len(groupby_opp[groupby_opp<=50])\n",
    "    size_100 = len(groupby_opp[groupby_opp>100])\n",
    "    \n",
    "#     print(size_01_05 + size_06_25 + size_26_50 + size_51_100 + size_100)\n",
    "    \n",
    "    # Data to plot\n",
    "    labels = '1-5', '6-25', '26-50', '51-100', '>100'\n",
    "    sizes = [size_01_05, size_06_25, size_26_50, size_51_100, size_100]\n",
    "    colors = ['gold', 'yellowgreen', 'lightcoral', 'lightskyblue', 'grey']\n",
    "    explode = (0, 0, 0, 0, 0)  # explode 1st slice\n",
    "\n",
    "    # Plot\n",
    "    plt.pie(sizes, explode=explode, labels=labels, colors=colors,\n",
    "            autopct='%1.1f%%', shadow=True, startangle=140)\n",
    "    plt.title('Number of Applications Received per Opportunity')\n",
    "    plt.axis('equal')\n",
    "    plt.show()\n",
    "\n",
    "    \n",
    "displayOpportunityPopularityPiechart(basic_df)\n",
    "# displayOpportunityPopularityHistogram(basic_df)"
   ]
  },
  {
   "cell_type": "code",
   "execution_count": 33,
   "metadata": {},
   "outputs": [
    {
     "name": "stdout",
     "output_type": "stream",
     "text": [
      "Series([], Name: opp_id, dtype: int64)\n"
     ]
    }
   ],
   "source": [
    "# Check for candidate that makes multiple application to the same opportunity\n",
    "\n",
    "groupby_opp = basic_df.groupby(['candidate_id', 'opp_id'])['opp_id'].count()\n",
    "\n",
    "print(groupby_opp[groupby_opp>=2])\n",
    "# groupby_opp[groupby_opp>=2].to_csv('tmp.csv')\n",
    "\n",
    "# basic_df[basic_df['candidate_id']==41.0]"
   ]
  },
  {
   "cell_type": "code",
   "execution_count": 34,
   "metadata": {},
   "outputs": [
    {
     "name": "stdout",
     "output_type": "stream",
     "text": [
      "Unique app_id in data/app_200.csv: 142600\n",
      "Unique app_id in /backup/vX/apps_opps/rep/report_200_live.csv: 339718\n",
      "Unique opp_id in data/app_200.csv: 5686\n",
      "Unique opp_id in /backup/vX/apps_opps/rep/report_200_live.csv: 7466\n"
     ]
    }
   ],
   "source": [
    "# Total number of unique app and opp id dont match\n",
    "def checkApplication(app_csv_filename, id_csv_filename, cv_csv_filename):\n",
    "    id_df = pd.read_csv(id_csv_filename)\n",
    "    app_df = pd.read_csv(app_csv_filename)\n",
    "    cv_df = pd.read_csv(cv_csv_filename)\n",
    "    # print(id_df.head(1))\n",
    "    print('Unique app_id in %s: %d' %(app_csv_filename, len(app_df['app_id'].unique())))\n",
    "    print('Unique app_id in %s: %d' % (id_csv_filename, len(id_df['app_id'].unique())))\n",
    "    print('Unique opp_id in %s: %d' % (app_csv_filename, len(app_df['opp_id'].unique())))\n",
    "    print('Unique opp_id in %s: %d' % (id_csv_filename, len(id_df['opp_id'].unique())))\n",
    "#     print('Unique candidate_id in %s: %d' % (app_csv_filename, len(app_df['candidate_id'].unique())))\n",
    "#     print('Unique candidate_id in %s: %d' % (id_csv_filename, len(id_df['candidate_id'].unique())))\n",
    "\n",
    "checkApplication('data/app_200.csv', '/backup/vX/apps_opps/rep/report_200_live.csv', '/backup/vX/CV/200/files_200.csv')"
   ]
  },
  {
   "cell_type": "code",
   "execution_count": 35,
   "metadata": {},
   "outputs": [
    {
     "name": "stdout",
     "output_type": "stream",
     "text": [
      "Series([], Name: candidate_id, dtype: int64)\n"
     ]
    }
   ],
   "source": [
    "# Check for candidate with potential multiple account\n",
    "# groupby_email = basic_df.groupby(['email', 'first_name', 'last_name'])['candidate_id'].apply(lambda x: len(x.unique()))\n",
    "groupby_email = basic_df.groupby([basic_df['first_name'].str.lower(), \n",
    "                                  basic_df['last_name'].str.lower(), \n",
    "                                  basic_df['email'].str.lower()])['candidate_id'].apply(lambda x: len(x.unique()))\n",
    "\n",
    "print(groupby_email[groupby_email>=2])\n",
    "\n",
    "# index = groupby_email.index\n",
    "\n",
    "# basic_df[basic_df['email']=='harris_y@hotmail.co.uk'][['app_id', 'opp_id', 'candidate_id', 'first_name', 'last_name', 'email', 'phone', 'submitted_date']]"
   ]
  },
  {
   "cell_type": "code",
   "execution_count": null,
   "metadata": {
    "collapsed": true
   },
   "outputs": [],
   "source": [
    ""
   ]
  }
 ],
 "metadata": {
  "kernelspec": {
   "display_name": "Python 3",
   "language": "python",
   "name": "python3"
  },
  "language_info": {
   "codemirror_mode": {
    "name": "ipython",
    "version": 3.0
   },
   "file_extension": ".py",
   "mimetype": "text/x-python",
   "name": "python",
   "nbconvert_exporter": "python",
   "pygments_lexer": "ipython3",
   "version": "3.5.2"
  }
 },
 "nbformat": 4,
 "nbformat_minor": 0
}