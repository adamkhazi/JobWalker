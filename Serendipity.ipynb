{
 "cells": [
  {
   "cell_type": "code",
   "execution_count": null,
   "metadata": {},
   "outputs": [],
   "source": [
    "import DataReader as dr\n",
    "import CollaborativeFiltering\n",
    "import ContentBasedRecommender\n",
    "import GraphBasedRecommender\n",
    "import RunMe\n",
    "import Evaluator\n",
    "import logging as log\n",
    "from Enumeration import Test_Mode\n",
    "import pandas as pd\n",
    "import numpy as np"
   ]
  },
  {
   "cell_type": "code",
   "execution_count": null,
   "metadata": {},
   "outputs": [],
   "source": [
    "client_id = '048'\n",
    "\n",
    "collaborative_result = []\n",
    "# Loop the test\n",
    "for seed in range(0, 5):\n",
    "    # Use a different seed to choose different candidates and opporunity for each run\n",
    "\n",
    "    # Comment or uncomment to test collaborative filtering\n",
    "    collaborative_result.append(RunMe.runCollaborativeFiltering('data/app_'+client_id+'.csv',\n",
    "                                                'data/opp_'+client_id+'.csv',\n",
    "                                                Test_Mode.Warm_Candidate, seed))"
   ]
  },
  {
   "cell_type": "code",
   "execution_count": null,
   "metadata": {},
   "outputs": [],
   "source": [
    "reciprocal_result = []\n",
    "# Loop the test\n",
    "for seed in range(0, 5):\n",
    "    # Use a different seed to choose different candidates and opporunity for each run\n",
    "\n",
    "    reciprocal_result.append(RunMe.runGraphBasedRecommender('data/app_'+client_id+'_doc2vec.csv',\n",
    "                                           'data/opp_'+client_id+'_doc2vec.csv',\n",
    "                                           'data/cv_'+client_id+'.csv',\n",
    "                                           Test_Mode.Warm_Candidate,\n",
    "                                           seed))"
   ]
  },
  {
   "cell_type": "code",
   "execution_count": null,
   "metadata": {
    "collapsed": true
   },
   "outputs": [],
   "source": [
    "def getTestData(app_filename, opp_filename, test_mode, seed):\n",
    "    datareader = dr.CSVReader(app_filename, opp_filename)\n",
    "\n",
    "    if test_mode == Test_Mode.Random_Candidate:\n",
    "        train_app_df, gold_app_df, opp_df = datareader.getTrainNTestData_RandomCandidate(number_of_test_opp=500,\n",
    "                                                                                         number_of_test_candidate=50,\n",
    "                                                                                         seed=seed)\n",
    "    elif test_mode == Test_Mode.Warm_Candidate:\n",
    "        train_app_df, gold_app_df, opp_df = datareader.getTrainNTestData_WarmCandidate(number_of_test_opp=500,\n",
    "                                                                                       number_of_test_candidate=50,\n",
    "                                                                                       min_application=2,\n",
    "                                                                                       application_train=1,\n",
    "                                                                                       seed=seed)\n",
    "    elif test_mode == Test_Mode.Cold_Candidate:\n",
    "        train_app_df, gold_app_df, opp_df = datareader.getTrainNTestData_ColdCandidate(number_of_test_opp=500,\n",
    "                                                                                       number_of_test_candidate=50,\n",
    "                                                                                       seed=seed)\n",
    "    elif test_mode == Test_Mode.Cold_Opportunity:\n",
    "        train_app_df, gold_app_df, opp_df = datareader.getTrainNTestData_ColdOpportunity(number_of_test_opp=500,\n",
    "                                                                                         number_of_test_candidate=50,\n",
    "                                                                                         seed=seed)\n",
    "    else:\n",
    "        log.error('Invalid mode selected.')\n",
    "        assert(False)\n",
    "\n",
    "    return train_app_df, gold_app_df, opp_df"
   ]
  },
  {
   "cell_type": "code",
   "execution_count": null,
   "metadata": {},
   "outputs": [],
   "source": [
    "ave_serendipity_list = []\n",
    "for i in range(len(collaborative_result)):\n",
    "    train_app_df, gold_app_df, opp_df = getTestData('data/app_'+client_id+'_doc2vec.csv', \n",
    "                                                      'data/opp_'+client_id+'_doc2vec.csv', \n",
    "                                                      Test_Mode.Warm_Candidate, \n",
    "                                                      i)\n",
    "    col_rec_dict = collaborative_result[i][2]\n",
    "    reci_rec_dict = reciprocal_result[i][2]\n",
    "    \n",
    "    unique_candidate_list = list(col_rec_dict.keys())\n",
    "    \n",
    "    total_unexpected = 0\n",
    "    total_useful = 0\n",
    "    total_serendipity = 0\n",
    "    serendipity_list = []\n",
    "    for candidate in unique_candidate_list:\n",
    "        col_rec_set = set(col_rec_dict[candidate])\n",
    "        reci_rec_set = set(reci_rec_dict[candidate])\n",
    "\n",
    "        unexpected = reci_rec_set - col_rec_set\n",
    "        gold_application_list = gold_app_df[gold_app_df.candidate_id == candidate].opp_id.values\n",
    "        \n",
    "        unexpected_count = len(unexpected)\n",
    "        total_unexpected += unexpected_count\n",
    "        useful_count = len(set(gold_application_list) - unexpected)\n",
    "        total_useful += useful_count\n",
    "        \n",
    "        if unexpected_count != 0:\n",
    "            serendipity_list.append(useful_count/unexpected_count)\n",
    "#         serendipity = useful_count/unexpected_count\n",
    "#         total_serendipity += serendipity\n",
    "        \n",
    "    ave_serendipity = np.mean(serendipity_list)\n",
    "    print('ave: %f' %ave_serendipity)\n",
    "    ave_serendipity_list.append(ave_serendipity)\n",
    "    \n",
    "\n",
    "print('Average Serendipity for Client %s: %.3f' %(client_id, np.mean(ave_serendipity_list)))"
   ]
  },
  {
   "cell_type": "code",
   "execution_count": null,
   "metadata": {
    "collapsed": true
   },
   "outputs": [],
   "source": []
  },
  {
   "cell_type": "code",
   "execution_count": null,
   "metadata": {
    "collapsed": true
   },
   "outputs": [],
   "source": []
  },
  {
   "cell_type": "code",
   "execution_count": null,
   "metadata": {
    "collapsed": true
   },
   "outputs": [],
   "source": []
  },
  {
   "cell_type": "code",
   "execution_count": null,
   "metadata": {
    "collapsed": true
   },
   "outputs": [],
   "source": []
  },
  {
   "cell_type": "code",
   "execution_count": null,
   "metadata": {
    "collapsed": true
   },
   "outputs": [],
   "source": []
  },
  {
   "cell_type": "code",
   "execution_count": null,
   "metadata": {
    "collapsed": true
   },
   "outputs": [],
   "source": []
  },
  {
   "cell_type": "code",
   "execution_count": null,
   "metadata": {
    "collapsed": true
   },
   "outputs": [],
   "source": []
  },
  {
   "cell_type": "code",
   "execution_count": null,
   "metadata": {
    "collapsed": true
   },
   "outputs": [],
   "source": []
  },
  {
   "cell_type": "code",
   "execution_count": null,
   "metadata": {
    "collapsed": true
   },
   "outputs": [],
   "source": []
  },
  {
   "cell_type": "code",
   "execution_count": null,
   "metadata": {
    "collapsed": true
   },
   "outputs": [],
   "source": []
  }
 ],
 "metadata": {
  "kernelspec": {
   "display_name": "Python 3",
   "language": "python",
   "name": "python3"
  },
  "language_info": {
   "codemirror_mode": {
    "name": "ipython",
    "version": 3
   },
   "file_extension": ".py",
   "mimetype": "text/x-python",
   "name": "python",
   "nbconvert_exporter": "python",
   "pygments_lexer": "ipython3",
   "version": "3.5.2"
  }
 },
 "nbformat": 4,
 "nbformat_minor": 2
}
